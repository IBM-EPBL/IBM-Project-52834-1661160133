{
  "nbformat": 4,
  "nbformat_minor": 0,
  "metadata": {
    "colab": {
      "provenance": []
    },
    "kernelspec": {
      "name": "python3",
      "display_name": "Python 3"
    },
    "language_info": {
      "name": "python"
    }
  },
  "cells": [
    {
      "cell_type": "markdown",
      "source": [
        "**Model Building (Training and Testing)**"
      ],
      "metadata": {
        "id": "lySe-LUD3Rsk"
      }
    },
    {
      "cell_type": "code",
      "source": [
        "#We are going to import and use it for assessing the model using performance metrics from Classification process\n",
        "from sklearn.metrics import confusion_matrix, accuracy_score, f1_score\n",
        "List_metrics = []\n",
        "List_accuracy = []\n",
        "\n",
        "#Logistic Regression\n",
        "from sklearn.linear_model import LogisticRegression\n",
        "Classification_model = LogisticRegression(C=0.4,max_iter=1000,solver='liblinear')\n",
        "Log_Regression = Classification_model.fit(x_train, y_train)\n",
        "y_pred = Classification_model.predict(x_test)  #Prediction\n",
        "Log_Regression_accuracy = accuracy_score(y_test, y_pred)  #Accuracy\n",
        "print(\"The accuracy score with Logistic regression is:\",Log_Regression_accuracy)\n",
        "\n",
        "#Decision Tree Classificaton using supervised machine learning for classifiying the data with confident accuracy\n",
        "from sklearn.tree import DecisionTreeClassifier\n",
        "Classification_tree = DecisionTreeClassifier(random_state=14)\n",
        "Decision_tree = Classification_tree.fit(x_train, y_train)\n",
        "y_pred2 = Classification_tree.predict(x_test) #Prediction\n",
        "Dec_tree_accuracy = accuracy_score(y_test, y_pred2) #Accuracy\n",
        "print(\"The accuracy score with Decision Tree Classifier is:\",Dec_tree_accuracy)\n",
        "\n",
        "#Random Forest Classifier is used for its high dimensionality and accuracy capabilities, here information gain is priortized\n",
        "from sklearn.ensemble import RandomForestClassifier\n",
        "Classification_random = RandomForestClassifier(random_state=14)\n",
        "RFE = Classification_random.fit(x_train, y_train)\n",
        "y_pred3 = Classification_random.predict(x_test) #Prediction\n",
        "Ran_For_accuracy = accuracy_score(y_test, y_pred3) #Accuracy\n",
        "print(\"The accuracy score with Random Forest Classifier(Information gain) is:\",Ran_For_accuracy)\n",
        "\n",
        "#Random Forest Classifier with entropy condition\n",
        "from sklearn.ensemble import RandomForestClassifier\n",
        "Classification_entropy = RandomForestClassifier(criterion='entropy')\n",
        "RFE = Classification_entropy.fit(x_train,y_train)\n",
        "y_pred4 = Classification_entropy.predict(x_test)\n",
        "Random = accuracy_score(y_test, y_pred4)\n",
        "print(\"The accuracy score with Random Forest Classifier(Entropy) is:\",Random)\n",
        "#Using Support Vector Machine (SVM) for to enhance the similarity and to increase the scaling factor of the model\n",
        "from sklearn.svm import SVC\n",
        "Parkinson_model = SVC(cache_size=100)\n",
        "Support_vector_machine = Parkinson_model.fit(x_train, y_train)\n",
        "y_pred5 = Parkinson_model.predict(x_test)\n",
        "Support_accuracy = accuracy_score(y_test, y_pred5)\n",
        "print(\"The accuracy score with Support Vector Machine is:\",Support_accuracy)\n",
        "\n",
        "#K Nearest Neighbor Classifier for better effectiveness\n",
        "from sklearn.neighbors import KNeighborsClassifier\n",
        "KNN_parkinson = KNeighborsClassifier(n_neighbors=3)\n",
        "K_Nearest_Neighbor_Classifier = KNN_parkinson.fit(x_train, y_train)\n",
        "KNN_predict = KNN_parkinson.predict(x_test)\n",
        "KNN_accuracy = accuracy_score(y_test, KNN_predict)\n",
        "print(\"The accuracy score with K Nearest Neighbor Algorithm is:\",KNN_accuracy)\n",
        "\n",
        "#GaussianNB\n",
        "from sklearn.naive_bayes import GaussianNB\n",
        "GNB = GaussianNB()\n",
        "Model_NB = GNB.fit(x_train,y_train)\n",
        "pred_gnb = Model_NB.predict(x_test)\n",
        "GNB_accuracy = accuracy_score(y_test, pred_gnb)\n",
        "print(\"The accuracy score with Gaussian Naive Bayes is:\",GNB_accuracy)\n",
        "\n",
        "print(\"\\nLet's see the overall accuracy of the built model that is been created below, view the overall accuracy score below!\")\n",
        "Overall_accuracy_percentage = Log_Regression_accuracy+Dec_tree_accuracy+Ran_For_accuracy+Random+Support_accuracy+KNN_accuracy+GNB_accuracy\n",
        "Average_accuracy = (Overall_accuracy_percentage)/7\n",
        "print(\"The accuracy of all the combined metrics for the model is:\",Average_accuracy/0.01)"
      ],
      "metadata": {
        "id": "6pByaHYy3uIS"
      },
      "execution_count": null,
      "outputs": []
    }
  ]
}