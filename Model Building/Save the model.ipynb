{
  "nbformat": 4,
  "nbformat_minor": 0,
  "metadata": {
    "colab": {
      "provenance": []
    },
    "kernelspec": {
      "name": "python3",
      "display_name": "Python 3"
    },
    "language_info": {
      "name": "python"
    }
  },
  "cells": [
    {
      "cell_type": "markdown",
      "source": [
        "**Saving the model**"
      ],
      "metadata": {
        "id": "3wZH8n3F4USR"
      }
    },
    {
      "cell_type": "code",
      "source": [
        "import pickle\n",
        "\n",
        "with open( 'Parkinson_MLmodel.sav', 'wb') as f:\n",
        "    pickle.dump(Model_XG,f)\n",
        "    \n",
        "with open('standardScalar.sav', 'wb') as f:\n",
        "    pickle.dump(Scaler_data,f)"
      ],
      "metadata": {
        "id": "kGoRQcMX4b0s"
      },
      "execution_count": null,
      "outputs": []
    }
  ]
}