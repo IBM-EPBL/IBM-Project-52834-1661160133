{
  "nbformat": 4,
  "nbformat_minor": 0,
  "metadata": {
    "colab": {
      "provenance": []
    },
    "kernelspec": {
      "name": "python3",
      "display_name": "Python 3"
    },
    "language_info": {
      "name": "python"
    }
  },
  "cells": [
    {
      "cell_type": "code",
      "execution_count": 1,
      "metadata": {
        "id": "hOkKsfXU1sc8"
      },
      "outputs": [],
      "source": [
        "def quantify_image(image):\n",
        "    #compute histogram of oriented gradients feature vector for the input image\n",
        "    features=feature.hog(image,orientations=9,pixels_per_cell=(10,10),cells_per_block=(2,2),transform_sqrt=True,block_norm=\"L1\")\n",
        "    return features\n",
        "\n",
        "def load_split(path):\n",
        "    #grab list of images in the input dir,then initialize the list of data and class labels\n",
        "    \n",
        "    imagepaths=list(paths.list_images(path))\n",
        "    data,labels=[],[]\n",
        "    \n",
        "    #loop over the image path\n",
        "    for imagepath in imagepaths:\n",
        "        #extract the class label from the filename\n",
        "        label=imagepath.split(os.path.sep)[-2]\n",
        "        \n",
        "        #load the input image\n",
        "        image=cv2.imread(imagepath)\n",
        "        image=cv2.cvtColor(image,cv2.COLOR_BGR2GRAY)\n",
        "        image=cv2.resize(image,(200,200))\n",
        "        image=cv2.threshold(image,0,255,cv2.THRESH_BINARY_INV | cv2.THRESH_OTSU)[1]\n",
        "        \n",
        "        #quantify the image\n",
        "        features=quantify_image(image)\n",
        "        \n",
        "        #update the data and labels\n",
        "        data.append(features)\n",
        "        labels.append(label)\n",
        "        \n",
        "    return (np.array(data),np.array(labels))"
      ]
    }
  ]
}