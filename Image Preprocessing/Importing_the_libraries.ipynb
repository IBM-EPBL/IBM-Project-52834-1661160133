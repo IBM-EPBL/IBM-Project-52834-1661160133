{
  "nbformat": 4,
  "nbformat_minor": 0,
  "metadata": {
    "colab": {
      "provenance": []
    },
    "kernelspec": {
      "name": "python3",
      "display_name": "Python 3"
    },
    "language_info": {
      "name": "python"
    }
  },
  "cells": [
    {
      "cell_type": "markdown",
      "source": [
        "Import the necessary Libraries"
      ],
      "metadata": {
        "id": "JCgvxYdkp9UC"
      }
    },
    {
      "cell_type": "code",
      "source": [
        "import pandas as pd\n",
        "import numpy as np\n",
        "import seaborn as sns\n",
        "import matplotlib.pyplot as plt\n",
        "\n",
        "#PATH PROCESS\n",
        "import os\n",
        "import os.path\n",
        "from pathlib import path \n",
        "import glob\n",
        "\n"
      ],
      "metadata": {
        "id": "hhSYNZPIqHeC"
      },
      "execution_count": null,
      "outputs": []
    }
  ]
}