{
  "nbformat": 4,
  "nbformat_minor": 0,
  "metadata": {
    "colab": {
      "provenance": []
    },
    "kernelspec": {
      "name": "python3",
      "display_name": "Python 3"
    },
    "language_info": {
      "name": "python"
    }
  },
  "cells": [
    {
      "cell_type": "markdown",
      "source": [
        "Label Encoding"
      ],
      "metadata": {
        "id": "OwWwP2MhcR7k"
      }
    },
    {
      "cell_type": "code",
      "source": [
        "#Label Encoding\n",
        "le=LabelEncoder()\n",
        "Y_train=le.fit_transform(Y_train)\n",
        "Y_test=le.transform(Y_test)\n",
        "print(X_train.shape,Y_train.shape)"
      ],
      "metadata": {
        "id": "PSWxOkE7cXkU"
      },
      "execution_count": 1,
      "outputs": []
    }
  ]
}